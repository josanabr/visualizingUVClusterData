{
 "cells": [
  {
   "cell_type": "markdown",
   "metadata": {},
   "source": [
    "# Analizando datos del cluster de Univalle\n",
    "\n",
    "En este *notebook* se mostrarán las instrucciones que permitirán analizar los datos del cluster de Univalle.\n",
    "\n",
    "El código abajo lee datos el archivo `history.csv`. \n",
    "\n",
    "## Cargando datos"
   ]
  },
  {
   "cell_type": "code",
   "execution_count": 1,
   "metadata": {},
   "outputs": [],
   "source": [
    "import pandas as pd\n",
    "\n",
    "CSVFILENAME = 'history-2019-10-07.csv.gz'\n",
    "\n",
    "df = pd.read_csv(CSVFILENAME,compression=\"gzip\",dtype='unicode')"
   ]
  },
  {
   "cell_type": "markdown",
   "metadata": {},
   "source": [
    "## Definición de índice sobre el *dataframe*\n",
    "\n",
    "Se usa como índice del análisis el campo `JobCurrentStartDate`."
   ]
  },
  {
   "cell_type": "code",
   "execution_count": 2,
   "metadata": {},
   "outputs": [],
   "source": [
    "INDEXFIELD = 'JobCurrentStartDate'\n",
    "\n",
    "df[INDEXFIELD] = pd.to_datetime(df[INDEXFIELD], unit='s')\n",
    "df = df.set_index(INDEXFIELD)"
   ]
  },
  {
   "cell_type": "markdown",
   "metadata": {},
   "source": [
    "## Definición de funciones auxiliares\n",
    "\n",
    "A continuación se definen unas funciones auxiliares que permitirán visualizar los datos."
   ]
  },
  {
   "cell_type": "code",
   "execution_count": 3,
   "metadata": {},
   "outputs": [],
   "source": [
    "import matplotlib.pyplot as plt\n",
    "import numpy as np\n",
    "import math\n",
    "\n",
    "#\n",
    "# Esta funcion permite revisar el numero de tareas ejecutadas cada\n",
    "# mes entre el 'ano1' y el 'ano2', inclusive.\n",
    "#\n",
    "def analizarRangoAnos(ano1,ano2, log = True, Users = []):\n",
    "    values = [] # valores reales\n",
    "    vallog = [] # valores logaritmicos\n",
    "    xlabel = []\n",
    "    contador = 1\n",
    "    for i in range(ano1, ano2 + 1):\n",
    "        for j in range(1, 13):\n",
    "            fecha = '%d-%d'%(i,j)\n",
    "            if (len(Users) == 0):\n",
    "                valT = df.loc[fecha].shape[0]\n",
    "            else:\n",
    "                dfNoUser = df[df['User'].isin(Users)]\n",
    "                valT = dfNoUser.loc[fecha].shape[0]\n",
    "            values.append(valT)\n",
    "            if valT <= 0:\n",
    "                valT = 1\n",
    "            if log:\n",
    "                vallog.append(math.log2(valT))\n",
    "            else:\n",
    "                vallog.append(valT)                \n",
    "            #xlabel.append(fecha)\n",
    "            xlabel.append(contador)\n",
    "            contador = contador + 1\n",
    "\n",
    "    return (xlabel, vallog, values)\n",
    "\n",
    "#\n",
    "# Esta funcion entrega el numero de tareas ejecutadas mes a mes\n",
    "# de un ano en particular\n",
    "#\n",
    "def analizarPorAno(ano, log = True, Users = [] ):\n",
    "    return analizarRangoAnos(ano, ano, log, Users)\n",
    "\n",
    "#\n",
    "# Funcion que grafica dos valores.\n",
    "#\n",
    "def showPlot(xlab, val):\n",
    "    fit = plt.figure()\n",
    "    plt.plot(xlab,val)\n",
    "    plt.grid()\n",
    "    plt.show()"
   ]
  },
  {
   "cell_type": "markdown",
   "metadata": {},
   "source": [
    "## Numero promedio de tareas por mes\n",
    "\n",
    "El siguiente fragmento genera una lista de lista que contiene el numero de trabajos por mes por cada año desde el 2015 al 2019.\n",
    "Luego, se saca un promedio  y lo que se hará es graficar por meses el uso del cluster."
   ]
  },
  {
   "cell_type": "code",
   "execution_count": 4,
   "metadata": {},
   "outputs": [
    {
     "data": {
      "text/plain": [
       "<BarContainer object of 12 artists>"
      ]
     },
     "execution_count": 4,
     "metadata": {},
     "output_type": "execute_result"
    },
    {
     "data": {
      "image/png": "[encoded data removed]",
      "text/plain": [
       "<Figure size 432x288 with 1 Axes>"
      ]
     },
     "metadata": {
      "needs_background": "light"
     },
     "output_type": "display_data"
    }
   ],
   "source": [
    "lista = []\n",
    "for i in range(2015,2020):\n",
    "    (x,y,values) = analizarPorAno(i,False)\n",
    "    lista.append(values)\n",
    "jobsxmes = pd.DataFrame.from_records(lista)\n",
    "avgjobsxmes = []\n",
    "for i in range(0,12):\n",
    "    avgjobsxmes.append(jobsxmes[i].mean())\n",
    "plt.bar(x, height = avgjobsxmes)"
   ]
  },
  {
   "cell_type": "markdown",
   "metadata": {},
   "source": [
    "## Numero promedio de tareas por mes por un usuario\n",
    "\n",
    "El siguiente fragmento genera una lista de lista que contiene el numero de trabajos por mes por cada año desde del 2015 al 2019 por un usuario o varios usuarios en particular.\n",
    "Luego, se saca un promedio  y lo que se hará es graficar por meses el uso del cluster de ese o esos usuarios."
   ]
  },
  {
   "cell_type": "code",
   "execution_count": 7,
   "metadata": {},
   "outputs": [
    {
     "data": {
      "text/plain": [
       "<BarContainer object of 12 artists>"
      ]
     },
     "execution_count": 7,
     "metadata": {},
     "output_type": "execute_result"
    },
    {
     "data": {
      "image/png": "[encoded data removed]",
      "text/plain": [
       "<Figure size 432x288 with 1 Axes>"
      ]
     },
     "metadata": {
      "needs_background": "light"
     },
     "output_type": "display_data"
    }
   ],
   "source": [
    "lista = []\n",
    "#Users = ['rduque@cloud.univalle.edu.co']\n",
    "Users = []\n",
    "for i in range(2017,2018):\n",
    "    (x,y,values) = analizarPorAno(i,False,Users)\n",
    "    lista.append(values)\n",
    "jobsxmes = pd.DataFrame.from_records(lista)\n",
    "avgjobsxmes = []\n",
    "for i in range(0,12):\n",
    "    avgjobsxmes.append(jobsxmes[i].mean())\n",
    "plt.bar(x, height = avgjobsxmes)"
   ]
  },
  {
   "cell_type": "markdown",
   "metadata": {},
   "source": [
    "Si usted desear revisar el de un año se ejecuta el siguiente código"
   ]
  },
  {
   "cell_type": "code",
   "execution_count": 8,
   "metadata": {},
   "outputs": [
    {
     "data": {
      "image/png": "[encoded data removed]",
      "text/plain": [
       "<Figure size 432x288 with 1 Axes>"
      ]
     },
     "metadata": {
      "needs_background": "light"
     },
     "output_type": "display_data"
    },
    {
     "data": {
      "text/plain": [
       "[22, 42, 23, 23, 1540, 35, 61, 101, 5780, 2, 0, 0]"
      ]
     },
     "execution_count": 8,
     "metadata": {},
     "output_type": "execute_result"
    }
   ],
   "source": [
    "(xlab, vallog, realvalues) = analizarPorAno(2019, False)\n",
    "showPlot(xlab, vallog)\n",
    "realvalues"
   ]
  },
  {
   "cell_type": "code",
   "execution_count": 17,
   "metadata": {},
   "outputs": [
    {
     "data": {
      "text/plain": [
       "7589"
      ]
     },
     "execution_count": 17,
     "metadata": {},
     "output_type": "execute_result"
    }
   ],
   "source": [
    "sum(realvalues)"
   ]
  },
  {
   "cell_type": "markdown",
   "metadata": {},
   "source": [
    "Si usted desea revisar el rango de años del 2015 al 2019 se debe ejecutar el siguiente código."
   ]
  },
  {
   "cell_type": "code",
   "execution_count": 9,
   "metadata": {},
   "outputs": [
    {
     "data": {
      "image/png": "[encoded data removed]",
      "text/plain": [
       "<Figure size 432x288 with 1 Axes>"
      ]
     },
     "metadata": {
      "needs_background": "light"
     },
     "output_type": "display_data"
    }
   ],
   "source": [
    "(xlab, vallog, realvalues) = analizarRangoAnos(2015, 2019, False)\n",
    "showPlot(xlab, vallog)"
   ]
  },
  {
   "cell_type": "markdown",
   "metadata": {},
   "source": [
    "En la ejecución anterior se inicializó una variable llamada 'realvalues'.\n",
    "Esta variable contiene las tareas que se ejecutaron por meses."
   ]
  },
  {
   "cell_type": "code",
   "execution_count": 10,
   "metadata": {},
   "outputs": [
    {
     "data": {
      "text/plain": [
       "[0,\n",
       " 0,\n",
       " 0,\n",
       " 13588,\n",
       " 797,\n",
       " 1211,\n",
       " 530,\n",
       " 754,\n",
       " 204,\n",
       " 98,\n",
       " 15,\n",
       " 36,\n",
       " 58,\n",
       " 4732,\n",
       " 99,\n",
       " 5433,\n",
       " 371,\n",
       " 2590,\n",
       " 3891,\n",
       " 5,\n",
       " 11745,\n",
       " 15737,\n",
       " 4793,\n",
       " 3795,\n",
       " 186,\n",
       " 1,\n",
       " 4711,\n",
       " 2709,\n",
       " 299,\n",
       " 3382,\n",
       " 1692,\n",
       " 10217,\n",
       " 8902,\n",
       " 141054,\n",
       " 428541,\n",
       " 24807,\n",
       " 9,\n",
       " 4,\n",
       " 64624,\n",
       " 60261,\n",
       " 243176,\n",
       " 23,\n",
       " 25,\n",
       " 141,\n",
       " 14711,\n",
       " 238485,\n",
       " 526,\n",
       " 23,\n",
       " 22,\n",
       " 42,\n",
       " 23,\n",
       " 23,\n",
       " 1540,\n",
       " 35,\n",
       " 61,\n",
       " 101,\n",
       " 5780,\n",
       " 2,\n",
       " 0,\n",
       " 0]"
      ]
     },
     "execution_count": 10,
     "metadata": {},
     "output_type": "execute_result"
    }
   ],
   "source": [
    "realvalues"
   ]
  },
  {
   "cell_type": "markdown",
   "metadata": {},
   "source": [
    "Vamos a identificar los usuarios y cuantas tareas han enviado a ejecutar en el cluster."
   ]
  },
  {
   "cell_type": "code",
   "execution_count": 11,
   "metadata": {},
   "outputs": [
    {
     "data": {
      "text/html": [
       "<div>\n",
       "<style scoped>\n",
       "    .dataframe tbody tr th:only-of-type {\n",
       "        vertical-align: middle;\n",
       "    }\n",
       "\n",
       "    .dataframe tbody tr th {\n",
       "        vertical-align: top;\n",
       "    }\n",
       "\n",
       "    .dataframe thead th {\n",
       "        text-align: right;\n",
       "    }\n",
       "</style>\n",
       "<table border=\"1\" class=\"dataframe\">\n",
       "  <thead>\n",
       "    <tr style=\"text-align: right;\">\n",
       "      <th></th>\n",
       "      <th>User</th>\n",
       "      <th>Total jobs</th>\n",
       "    </tr>\n",
       "  </thead>\n",
       "  <tbody>\n",
       "    <tr>\n",
       "      <td>70</td>\n",
       "      <td>test1@cloud.univalle.edu.co</td>\n",
       "      <td>1</td>\n",
       "    </tr>\n",
       "    <tr>\n",
       "      <td>5</td>\n",
       "      <td>c-dorado@cloud.univalle.edu.co</td>\n",
       "      <td>1</td>\n",
       "    </tr>\n",
       "    <tr>\n",
       "      <td>17</td>\n",
       "      <td>e-sd-01@cloud.univalle.edu.co</td>\n",
       "      <td>1</td>\n",
       "    </tr>\n",
       "    <tr>\n",
       "      <td>27</td>\n",
       "      <td>ma0@cloud.univalle.edu.co</td>\n",
       "      <td>2</td>\n",
       "    </tr>\n",
       "    <tr>\n",
       "      <td>18</td>\n",
       "      <td>e-sd-02@cloud.univalle.edu.co</td>\n",
       "      <td>2</td>\n",
       "    </tr>\n",
       "    <tr>\n",
       "      <td>...</td>\n",
       "      <td>...</td>\n",
       "      <td>...</td>\n",
       "    </tr>\n",
       "    <tr>\n",
       "      <td>20</td>\n",
       "      <td>edza@cloud.univalle.edu.co</td>\n",
       "      <td>21338</td>\n",
       "    </tr>\n",
       "    <tr>\n",
       "      <td>31</td>\n",
       "      <td>nmossos@cloud.univalle.edu.co</td>\n",
       "      <td>21495</td>\n",
       "    </tr>\n",
       "    <tr>\n",
       "      <td>12</td>\n",
       "      <td>clouduser@cloud.univalle.edu.co</td>\n",
       "      <td>23749</td>\n",
       "    </tr>\n",
       "    <tr>\n",
       "      <td>28</td>\n",
       "      <td>ma@cloud.univalle.edu.co</td>\n",
       "      <td>113271</td>\n",
       "    </tr>\n",
       "    <tr>\n",
       "      <td>43</td>\n",
       "      <td>rduque@cloud.univalle.edu.co</td>\n",
       "      <td>1266415</td>\n",
       "    </tr>\n",
       "  </tbody>\n",
       "</table>\n",
       "<p>73 rows × 2 columns</p>\n",
       "</div>"
      ],
      "text/plain": [
       "                               User  Total jobs\n",
       "70      test1@cloud.univalle.edu.co           1\n",
       "5    c-dorado@cloud.univalle.edu.co           1\n",
       "17    e-sd-01@cloud.univalle.edu.co           1\n",
       "27        ma0@cloud.univalle.edu.co           2\n",
       "18    e-sd-02@cloud.univalle.edu.co           2\n",
       "..                              ...         ...\n",
       "20       edza@cloud.univalle.edu.co       21338\n",
       "31    nmossos@cloud.univalle.edu.co       21495\n",
       "12  clouduser@cloud.univalle.edu.co       23749\n",
       "28         ma@cloud.univalle.edu.co      113271\n",
       "43     rduque@cloud.univalle.edu.co     1266415\n",
       "\n",
       "[73 rows x 2 columns]"
      ]
     },
     "execution_count": 11,
     "metadata": {},
     "output_type": "execute_result"
    }
   ],
   "source": [
    "group = df.groupby('User', as_index = False).count()\n",
    "# selecciono una columna cualquiera, 'ClusterId'\n",
    "group = group[['User','ClusterId']]\n",
    "# 'ClusterId' la renombro como 'Total jobs'\n",
    "group.columns = ['User', 'Total jobs']\n",
    "group.sort_values(by='Total jobs')"
   ]
  },
  {
   "cell_type": "markdown",
   "metadata": {},
   "source": [
    "Se identifica cuando **rduque** terminó de ejecutar la última tarea y cuando **rduque** envió la primera tarea."
   ]
  },
  {
   "cell_type": "code",
   "execution_count": 12,
   "metadata": {},
   "outputs": [
    {
     "name": "stdout",
     "output_type": "stream",
     "text": [
      "rduque uso el cluster por 923 dias\n"
     ]
    }
   ],
   "source": [
    "lastTask = df.loc[df['User'] == 'rduque@cloud.univalle.edu.co'].aggregate({'CompletionDate':'max'})\n",
    "firstTask = df.loc[df['User'] == 'rduque@cloud.univalle.edu.co'].aggregate({'QDate':'min'})\n",
    "print(\"rduque uso el cluster por %d dias\"%((int(lastTask) - int(firstTask))/(60*60*24)))"
   ]
  },
  {
   "cell_type": "code",
   "execution_count": 13,
   "metadata": {},
   "outputs": [
    {
     "data": {
      "text/plain": [
       "CumulativeRemoteUserCpu    9990.0\n",
       "dtype: object"
      ]
     },
     "execution_count": 13,
     "metadata": {},
     "output_type": "execute_result"
    }
   ],
   "source": [
    "df.loc[df['User'] == 'rduque@cloud.univalle.edu.co'].aggregate({'CumulativeRemoteUserCpu':'max'})"
   ]
  },
  {
   "cell_type": "code",
   "execution_count": null,
   "metadata": {},
   "outputs": [],
   "source": []
  }
 ],
 "metadata": {
  "kernelspec": {
   "display_name": "Python 3",
   "language": "python",
   "name": "python3"
  },
  "language_info": {
   "codemirror_mode": {
    "name": "ipython",
    "version": 3
   },
   "file_extension": ".py",
   "mimetype": "text/x-python",
   "name": "python",
   "nbconvert_exporter": "python",
   "pygments_lexer": "ipython3",
   "version": "3.7.3"
  }
 },
 "nbformat": 4,
 "nbformat_minor": 2
}
