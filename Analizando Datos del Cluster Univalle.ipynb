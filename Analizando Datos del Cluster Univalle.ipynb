{
 "cells": [
  {
   "cell_type": "markdown",
   "metadata": {},
   "source": [
    "# Analizando datos del cluster de Univalle\n",
    "\n",
    "En este *notebook* se mostrarán las instrucciones que permitirán analizar los datos del cluster de Univalle.\n",
    "\n",
    "El código abajo lee datos el archivo `history.csv`. \n",
    "Así mismo se usa como índice del análisis el campo `JobCurrentStartDate`."
   ]
  },
  {
   "cell_type": "code",
   "execution_count": 1,
   "metadata": {},
   "outputs": [],
   "source": [
    "import pandas as pd\n",
    "import matplotlib.pyplot as plt\n",
    "import numpy as np\n",
    "\n",
    "CSVFILENAME = 'history.csv.gz'\n",
    "INDEXFIELD = 'JobCurrentStartDate'\n",
    "\n",
    "def analizarRangoAnos(ano1,ano2):\n",
    "    values = []\n",
    "    xlabel = []\n",
    "    contador = 1\n",
    "    for i in range(ano1, ano2 + 1):\n",
    "        for j in range(1, 13):\n",
    "            fecha = '%d-%d'%(i,j)\n",
    "            values.append(df.loc[fecha].shape[0])\n",
    "            #xlabel.append(fecha)\n",
    "            xlabel.append(contador)\n",
    "            contador = contador + 1\n",
    "\n",
    "    return (xlabel, values)\n",
    "\n",
    "def analizarPorAno(ano):\n",
    "    return analizarRangoAnos(ano, ano)\n",
    "\n",
    "def showPlot(xlab, val):\n",
    "    fit = plt.figure()\n",
    "    plt.plot(xlab,val)\n",
    "    plt.grid()\n",
    "    plt.show()\n",
    "\n",
    "    \n",
    "df = pd.read_csv(CSVFILENAME,compression=\"gzip\")\n",
    "df[INDEXFIELD] = pd.to_datetime(df[INDEXFIELD], unit='s')\n",
    "df = df.set_index(INDEXFIELD)"
   ]
  },
  {
   "cell_type": "markdown",
   "metadata": {},
   "source": [
    "Si usted desear revisar el de un año se ejecuta el siguiente código"
   ]
  },
  {
   "cell_type": "code",
   "execution_count": 3,
   "metadata": {},
   "outputs": [
    {
     "data": {
      "image/png": "[encoded data removed]",
      "text/plain": [
       "<Figure size 432x288 with 1 Axes>"
      ]
     },
     "metadata": {
      "needs_background": "light"
     },
     "output_type": "display_data"
    },
    {
     "data": {
      "text/plain": [
       "[184, 1, 4725, 2701, 300, 3392, 1699, 10231, 8925, 141354, 429185, 24867]"
      ]
     },
     "execution_count": 3,
     "metadata": {},
     "output_type": "execute_result"
    }
   ],
   "source": [
    "(xlab, val) = analizarPorAno(2017)\n",
    "showPlot(xlab, val)\n",
    "val"
   ]
  },
  {
   "cell_type": "markdown",
   "metadata": {},
   "source": [
    "Si usted desea revisar el rango de años del 2015 al 2019 se debe ejecutar el siguiente código."
   ]
  },
  {
   "cell_type": "code",
   "execution_count": 2,
   "metadata": {},
   "outputs": [
    {
     "data": {
      "image/png": "[encoded data removed]",
      "text/plain": [
       "<Figure size 432x288 with 1 Axes>"
      ]
     },
     "metadata": {
      "needs_background": "light"
     },
     "output_type": "display_data"
    },
    {
     "data": {
      "text/plain": [
       "[1018,\n",
       " 1635,\n",
       " 2,\n",
       " 13877,\n",
       " 802,\n",
       " 1212,\n",
       " 532,\n",
       " 751,\n",
       " 206,\n",
       " 98,\n",
       " 14,\n",
       " 36,\n",
       " 57,\n",
       " 4742,\n",
       " 100,\n",
       " 5441,\n",
       " 372,\n",
       " 2588,\n",
       " 3893,\n",
       " 5,\n",
       " 11747,\n",
       " 15772,\n",
       " 4801,\n",
       " 3803,\n",
       " 184,\n",
       " 1,\n",
       " 4725,\n",
       " 2701,\n",
       " 300,\n",
       " 3392,\n",
       " 1699,\n",
       " 10231,\n",
       " 8925,\n",
       " 141354,\n",
       " 429185,\n",
       " 24867,\n",
       " 9,\n",
       " 4,\n",
       " 64770,\n",
       " 60445,\n",
       " 243662,\n",
       " 23,\n",
       " 25,\n",
       " 142,\n",
       " 14730,\n",
       " 238992,\n",
       " 528,\n",
       " 23,\n",
       " 22,\n",
       " 42,\n",
       " 23,\n",
       " 23,\n",
       " 1547,\n",
       " 34,\n",
       " 61,\n",
       " 98,\n",
       " 0,\n",
       " 0,\n",
       " 0,\n",
       " 0]"
      ]
     },
     "execution_count": 2,
     "metadata": {},
     "output_type": "execute_result"
    }
   ],
   "source": [
    "(xlab, val) = analizarRangoAnos(2015, 2019)\n",
    "showPlot(xlab, val)\n",
    "val"
   ]
  }
 ],
 "metadata": {
  "kernelspec": {
   "display_name": "Python 3",
   "language": "python",
   "name": "python3"
  },
  "language_info": {
   "codemirror_mode": {
    "name": "ipython",
    "version": 3
   },
   "file_extension": ".py",
   "mimetype": "text/x-python",
   "name": "python",
   "nbconvert_exporter": "python",
   "pygments_lexer": "ipython3",
   "version": "3.7.3"
  }
 },
 "nbformat": 4,
 "nbformat_minor": 2
}
